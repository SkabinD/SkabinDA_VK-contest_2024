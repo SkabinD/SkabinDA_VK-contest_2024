{
 "cells": [
  {
   "cell_type": "markdown",
   "metadata": {},
   "source": [
    "# Import"
   ]
  },
  {
   "cell_type": "code",
   "execution_count": 8,
   "metadata": {},
   "outputs": [],
   "source": [
    "import pandas as pd\n",
    "import numpy as np\n",
    "\n",
    "from sklearn.linear_model import LogisticRegression\n",
    "\n",
    "from utils import *"
   ]
  },
  {
   "cell_type": "markdown",
   "metadata": {},
   "source": [
    "# Preprocessing"
   ]
  },
  {
   "cell_type": "code",
   "execution_count": 9,
   "metadata": {},
   "outputs": [],
   "source": [
    "PATH_TRAIN = \"../data/train_df.csv\"\n",
    "PATH_TEST  = \"../data/test_df.csv\"\n",
    "\n",
    "df_train = pd.read_csv(PATH_TRAIN)\n",
    "df_test  = pd.read_csv(PATH_TEST)"
   ]
  },
  {
   "cell_type": "markdown",
   "metadata": {},
   "source": [
    "# LogReg"
   ]
  },
  {
   "cell_type": "markdown",
   "metadata": {},
   "source": [
    "## Raw data"
   ]
  },
  {
   "cell_type": "code",
   "execution_count": 5,
   "metadata": {},
   "outputs": [
    {
     "name": "stdout",
     "output_type": "stream",
     "text": [
      "nDCG score: 0.470543929175376\n",
      "ROC AUC score: 0.7478457603777297\n",
      "              precision    recall  f1-score   support\n",
      "\n",
      "           0       0.98      1.00      0.99      1495\n",
      "           1       0.00      0.00      0.00        34\n",
      "\n",
      "    accuracy                           0.98      1529\n",
      "   macro avg       0.49      0.50      0.49      1529\n",
      "weighted avg       0.96      0.98      0.97      1529\n",
      "\n"
     ]
    },
    {
     "name": "stderr",
     "output_type": "stream",
     "text": [
      "z:\\projects\\code\\vk\\contest_task\\venv\\Lib\\site-packages\\sklearn\\metrics\\_classification.py:1509: UndefinedMetricWarning: Precision is ill-defined and being set to 0.0 in labels with no predicted samples. Use `zero_division` parameter to control this behavior.\n",
      "  _warn_prf(average, modifier, f\"{metric.capitalize()} is\", len(result))\n",
      "z:\\projects\\code\\vk\\contest_task\\venv\\Lib\\site-packages\\sklearn\\metrics\\_classification.py:1509: UndefinedMetricWarning: Precision is ill-defined and being set to 0.0 in labels with no predicted samples. Use `zero_division` parameter to control this behavior.\n",
      "  _warn_prf(average, modifier, f\"{metric.capitalize()} is\", len(result))\n",
      "z:\\projects\\code\\vk\\contest_task\\venv\\Lib\\site-packages\\sklearn\\metrics\\_classification.py:1509: UndefinedMetricWarning: Precision is ill-defined and being set to 0.0 in labels with no predicted samples. Use `zero_division` parameter to control this behavior.\n",
      "  _warn_prf(average, modifier, f\"{metric.capitalize()} is\", len(result))\n"
     ]
    }
   ],
   "source": [
    "# raw logreg\n",
    "X_train, y_train = get_training_samples(df_train)\n",
    "X_test, y_test = get_training_samples(df_test)\n",
    "\n",
    "clf = LogisticRegression(max_iter=2000)\n",
    "clf.fit(X_train, y_train)\n",
    "get_metrics(clf, y_test, X_test)"
   ]
  },
  {
   "cell_type": "code",
   "execution_count": 6,
   "metadata": {},
   "outputs": [
    {
     "name": "stdout",
     "output_type": "stream",
     "text": [
      "nDCG score: 0.5656151217530876\n",
      "ROC AUC score: 0.7554397009639977\n",
      "              precision    recall  f1-score   support\n",
      "\n",
      "           0       0.99      0.68      0.81      1495\n",
      "           1       0.05      0.71      0.09        34\n",
      "\n",
      "    accuracy                           0.68      1529\n",
      "   macro avg       0.52      0.70      0.45      1529\n",
      "weighted avg       0.97      0.68      0.79      1529\n",
      "\n"
     ]
    }
   ],
   "source": [
    "# balanced class weights\n",
    "X_train, y_train = get_training_samples(df_train)\n",
    "X_test, y_test = get_training_samples(df_test)\n",
    "\n",
    "clf = LogisticRegression(max_iter=2000, class_weight=\"balanced\")\n",
    "clf.fit(X_train, y_train)\n",
    "get_metrics(clf, y_test, X_test)"
   ]
  },
  {
   "cell_type": "markdown",
   "metadata": {},
   "source": [
    "## Reduced datasets\n",
    "\n",
    "### Drop constant features"
   ]
  },
  {
   "cell_type": "code",
   "execution_count": 73,
   "metadata": {},
   "outputs": [
    {
     "name": "stdout",
     "output_type": "stream",
     "text": [
      "(15081, 75) (15081,)\n",
      "(1529, 75) (1529,)\n",
      "nDCG score: 0.5650238240926239\n",
      "ROC AUC score: 0.7552036199095022\n",
      "              precision    recall  f1-score   support\n",
      "\n",
      "           0       0.99      0.69      0.81      1495\n",
      "           1       0.05      0.71      0.09        34\n",
      "\n",
      "    accuracy                           0.69      1529\n",
      "   macro avg       0.52      0.70      0.45      1529\n",
      "weighted avg       0.97      0.69      0.79      1529\n",
      "\n"
     ]
    }
   ],
   "source": [
    "features_to_drop = [\"feature_0\", \"feature_73\", \"feature_74\", \"feature_75\"]\n",
    "\n",
    "X_train, y_train = get_training_samples(df_train, features_to_drop=features_to_drop)\n",
    "X_test, y_test = get_training_samples(df_test, features_to_drop=features_to_drop)\n",
    "\n",
    "print(X_train.shape, y_train.shape)\n",
    "print(X_test.shape, y_test.shape)\n",
    "\n",
    "clf = LogisticRegression(max_iter=2000, class_weight=\"balanced\")\n",
    "clf.fit(X_train, y_train)\n",
    "\n",
    "get_metrics(clf, y_test, X_test)"
   ]
  },
  {
   "cell_type": "markdown",
   "metadata": {},
   "source": [
    "### Drop correlated features"
   ]
  },
  {
   "cell_type": "code",
   "execution_count": 83,
   "metadata": {},
   "outputs": [
    {
     "data": {
      "text/plain": [
       "[('feature_52', 'feature_62'),\n",
       " ('feature_54', 'feature_53'),\n",
       " ('feature_41', 'feature_42'),\n",
       " ('feature_65', 'feature_41'),\n",
       " ('feature_71', 'feature_72'),\n",
       " ('feature_41', 'feature_64'),\n",
       " ('feature_11', 'feature_12'),\n",
       " ('feature_78', 'feature_77'),\n",
       " ('feature_31', 'feature_32'),\n",
       " ('feature_32', 'feature_30'),\n",
       " ('feature_41', 'feature_63'),\n",
       " ('feature_38', 'feature_35'),\n",
       " ('feature_55', 'feature_53'),\n",
       " ('feature_76', 'feature_41'),\n",
       " ('feature_4', 'feature_3'),\n",
       " ('feature_48', 'feature_42'),\n",
       " ('feature_50', 'feature_71'),\n",
       " ('feature_65', 'feature_54'),\n",
       " ('feature_49', 'feature_46'),\n",
       " ('feature_76', 'feature_50'),\n",
       " ('feature_48', 'feature_64'),\n",
       " ('feature_42', 'feature_41'),\n",
       " ('feature_41', 'feature_39'),\n",
       " ('feature_62', 'feature_42'),\n",
       " ('feature_65', 'feature_62'),\n",
       " ('feature_53', 'feature_41'),\n",
       " ('feature_63', 'feature_53'),\n",
       " ('feature_54', 'feature_65'),\n",
       " ('feature_41', 'feature_76'),\n",
       " ('feature_11', 'feature_59'),\n",
       " ('feature_30', 'feature_32'),\n",
       " ('feature_42', 'feature_48'),\n",
       " ('feature_53', 'feature_65'),\n",
       " ('feature_62', 'feature_46'),\n",
       " ('feature_30', 'feature_31'),\n",
       " ('feature_17', 'feature_16'),\n",
       " ('feature_39', 'feature_50'),\n",
       " ('feature_72', 'feature_71'),\n",
       " ('feature_62', 'feature_48'),\n",
       " ('feature_72', 'feature_70'),\n",
       " ('feature_1', 'feature_7'),\n",
       " ('feature_42', 'feature_62'),\n",
       " ('feature_55', 'feature_65'),\n",
       " ('feature_46', 'feature_71'),\n",
       " ('feature_62', 'feature_39'),\n",
       " ('feature_55', 'feature_54'),\n",
       " ('feature_48', 'feature_76'),\n",
       " ('feature_60', 'feature_12'),\n",
       " ('feature_35', 'feature_38'),\n",
       " ('feature_59', 'feature_11'),\n",
       " ('feature_62', 'feature_56'),\n",
       " ('feature_65', 'feature_64'),\n",
       " ('feature_63', 'feature_41'),\n",
       " ('feature_72', 'feature_50'),\n",
       " ('feature_50', 'feature_49'),\n",
       " ('feature_67', 'feature_68'),\n",
       " ('feature_62', 'feature_76'),\n",
       " ('feature_65', 'feature_63'),\n",
       " ('feature_39', 'feature_53'),\n",
       " ('feature_46', 'feature_50'),\n",
       " ('feature_71', 'feature_46'),\n",
       " ('feature_63', 'feature_65'),\n",
       " ('feature_63', 'feature_54'),\n",
       " ('feature_65', 'feature_39'),\n",
       " ('feature_65', 'feature_55'),\n",
       " ('feature_50', 'feature_72'),\n",
       " ('feature_42', 'feature_64'),\n",
       " ('feature_54', 'feature_64'),\n",
       " ('feature_59', 'feature_60'),\n",
       " ('feature_50', 'feature_41'),\n",
       " ('feature_76', 'feature_48'),\n",
       " ('feature_48', 'feature_46'),\n",
       " ('feature_53', 'feature_64'),\n",
       " ('feature_60', 'feature_59'),\n",
       " ('feature_12', 'feature_11'),\n",
       " ('feature_77', 'feature_78'),\n",
       " ('feature_39', 'feature_41'),\n",
       " ('feature_34', 'feature_35'),\n",
       " ('feature_64', 'feature_53'),\n",
       " ('feature_76', 'feature_62'),\n",
       " ('feature_55', 'feature_64'),\n",
       " ('feature_69', 'feature_24'),\n",
       " ('feature_76', 'feature_56'),\n",
       " ('feature_50', 'feature_48'),\n",
       " ('feature_53', 'feature_54'),\n",
       " ('feature_46', 'feature_49'),\n",
       " ('feature_49', 'feature_71'),\n",
       " ('feature_42', 'feature_39'),\n",
       " ('feature_31', 'feature_30'),\n",
       " ('feature_49', 'feature_70'),\n",
       " ('feature_55', 'feature_63'),\n",
       " ('feature_30', 'feature_29'),\n",
       " ('feature_39', 'feature_65'),\n",
       " ('feature_53', 'feature_39'),\n",
       " ('feature_42', 'feature_56'),\n",
       " ('feature_56', 'feature_62'),\n",
       " ('feature_50', 'feature_62'),\n",
       " ('feature_41', 'feature_50'),\n",
       " ('feature_12', 'feature_60'),\n",
       " ('feature_42', 'feature_76'),\n",
       " ('feature_56', 'feature_76'),\n",
       " ('feature_55', 'feature_39'),\n",
       " ('feature_46', 'feature_72'),\n",
       " ('feature_63', 'feature_64'),\n",
       " ('feature_49', 'feature_50'),\n",
       " ('feature_39', 'feature_62'),\n",
       " ('feature_64', 'feature_41'),\n",
       " ('feature_76', 'feature_42'),\n",
       " ('feature_76', 'feature_64'),\n",
       " ('feature_39', 'feature_76'),\n",
       " ('feature_64', 'feature_40'),\n",
       " ('feature_64', 'feature_65'),\n",
       " ('feature_56', 'feature_42'),\n",
       " ('feature_46', 'feature_48'),\n",
       " ('feature_76', 'feature_46'),\n",
       " ('feature_41', 'feature_53'),\n",
       " ('feature_50', 'feature_42'),\n",
       " ('feature_64', 'feature_48'),\n",
       " ('feature_32', 'feature_31'),\n",
       " ('feature_64', 'feature_54'),\n",
       " ('feature_63', 'feature_39'),\n",
       " ('feature_49', 'feature_62'),\n",
       " ('feature_63', 'feature_55'),\n",
       " ('feature_35', 'feature_34'),\n",
       " ('feature_62', 'feature_50'),\n",
       " ('feature_70', 'feature_71'),\n",
       " ('feature_16', 'feature_17'),\n",
       " ('feature_39', 'feature_42'),\n",
       " ('feature_46', 'feature_62'),\n",
       " ('feature_54', 'feature_63'),\n",
       " ('feature_76', 'feature_39'),\n",
       " ('feature_50', 'feature_46'),\n",
       " ('feature_53', 'feature_63'),\n",
       " ('feature_46', 'feature_76'),\n",
       " ('feature_71', 'feature_70'),\n",
       " ('feature_64', 'feature_76'),\n",
       " ('feature_40', 'feature_64'),\n",
       " ('feature_39', 'feature_63'),\n",
       " ('feature_54', 'feature_55'),\n",
       " ('feature_50', 'feature_39'),\n",
       " ('feature_53', 'feature_55'),\n",
       " ('feature_40', 'feature_48'),\n",
       " ('feature_24', 'feature_69'),\n",
       " ('feature_62', 'feature_49'),\n",
       " ('feature_71', 'feature_50'),\n",
       " ('feature_32', 'feature_33'),\n",
       " ('feature_39', 'feature_55'),\n",
       " ('feature_64', 'feature_42'),\n",
       " ('feature_41', 'feature_65'),\n",
       " ('feature_50', 'feature_76'),\n",
       " ('feature_72', 'feature_46'),\n",
       " ('feature_3', 'feature_4'),\n",
       " ('feature_33', 'feature_32'),\n",
       " ('feature_64', 'feature_63'),\n",
       " ('feature_48', 'feature_50'),\n",
       " ('feature_48', 'feature_40'),\n",
       " ('feature_41', 'feature_62'),\n",
       " ('feature_65', 'feature_53'),\n",
       " ('feature_42', 'feature_50'),\n",
       " ('feature_62', 'feature_41'),\n",
       " ('feature_62', 'feature_52'),\n",
       " ('feature_70', 'feature_49'),\n",
       " ('feature_7', 'feature_1'),\n",
       " ('feature_68', 'feature_67'),\n",
       " ('feature_64', 'feature_55'),\n",
       " ('feature_71', 'feature_49'),\n",
       " ('feature_62', 'feature_65'),\n",
       " ('feature_48', 'feature_62'),\n",
       " ('feature_29', 'feature_30'),\n",
       " ('feature_70', 'feature_72')]"
      ]
     },
     "execution_count": 83,
     "metadata": {},
     "output_type": "execute_result"
    }
   ],
   "source": [
    "full_dataset = pd.concat([df_train, df_test])\n",
    "\n",
    "corr_mtx = full_dataset.corr()\n",
    "\n",
    "mask = corr_mtx.abs() > 0.5 \n",
    "pairs = mask[mask == True].stack().index\n",
    "pairs = list(set((i, j) for i, j in pairs))\n",
    "pairs = [(item1, item2) for item1, item2 in pairs if item1 != item2]\n",
    "pairs"
   ]
  },
  {
   "cell_type": "code",
   "execution_count": null,
   "metadata": {},
   "outputs": [],
   "source": [
    "features_to_drop = [\"feature_0\", \"feature_73\", \"feature_74\", \"feature_75\"]\n",
    "\n",
    "X_train, y_train = get_training_samples(df_train, features_to_drop=features_to_drop)\n",
    "X_test, y_test = get_training_samples(df_test, features_to_drop=features_to_drop)\n",
    "\n",
    "print(X_train.shape, y_train.shape)\n",
    "print(X_test.shape, y_test.shape)\n",
    "\n",
    "clf = LogisticRegression(max_iter=2000, class_weight=\"balanced\")\n",
    "clf.fit(X_train, y_train)\n",
    "\n",
    "get_metrics(clf, y_test, X_test)"
   ]
  },
  {
   "cell_type": "code",
   "execution_count": 74,
   "metadata": {},
   "outputs": [],
   "source": []
  }
 ],
 "metadata": {
  "kernelspec": {
   "display_name": "venv",
   "language": "python",
   "name": "python3"
  },
  "language_info": {
   "codemirror_mode": {
    "name": "ipython",
    "version": 3
   },
   "file_extension": ".py",
   "mimetype": "text/x-python",
   "name": "python",
   "nbconvert_exporter": "python",
   "pygments_lexer": "ipython3",
   "version": "3.11.6"
  }
 },
 "nbformat": 4,
 "nbformat_minor": 2
}
